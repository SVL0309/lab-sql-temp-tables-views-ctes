{
 "cells": [
  {
   "cell_type": "code",
   "execution_count": null,
   "id": "f6191c40",
   "metadata": {},
   "outputs": [],
   "source": [
    "Challenge\n",
    "Creating a Customer Summary Report\n",
    "\n",
    "In this exercise, you will create a customer summary report that summarizes key information about customers in the Sakila database, including their rental history and payment details. The report will be generated using a combination of views, CTEs, and temporary tables.\n",
    "\n",
    "Step 1: Create a View\n",
    "First, create a view that summarizes rental information for each customer. The view should include the customer's ID, name, email address, and total number of rentals (rental_count).\n",
    "\n",
    "Step 2: Create a Temporary Table\n",
    "Next, create a Temporary Table that calculates the total amount paid by each customer (total_paid). The Temporary Table should use the rental summary view created in Step 1 to join with the payment table and calculate the total amount paid by each customer.\n",
    "\n",
    "Step 3: Create a CTE and the Customer Summary Report\n",
    "Create a CTE that joins the rental summary View with the customer payment summary Temporary Table created in Step 2. The CTE should include the customer's name, email address, rental count, and total amount paid.\n",
    "\n",
    "Next, using the CTE, create the query to generate the final customer summary report, which should include: customer name, email, rental_count, total_paid and average_payment_per_rental, this last column is a derived column from total_paid and rental_count.\n",
    "\n",
    "Requirements\n",
    "Fork this repo\n",
    "Clone it to your machine\n",
    "Getting Started\n",
    "Complete the challenge in this readme in a .sql file.\n",
    "\n",
    "Submission"
   ]
  }
 ],
 "metadata": {
  "kernelspec": {
   "display_name": "Python 3 (ipykernel)",
   "language": "python",
   "name": "python3"
  },
  "language_info": {
   "codemirror_mode": {
    "name": "ipython",
    "version": 3
   },
   "file_extension": ".py",
   "mimetype": "text/x-python",
   "name": "python",
   "nbconvert_exporter": "python",
   "pygments_lexer": "ipython3",
   "version": "3.11.5"
  }
 },
 "nbformat": 4,
 "nbformat_minor": 5
}
